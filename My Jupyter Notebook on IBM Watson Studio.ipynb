{
 "cells": [
  {
   "cell_type": "markdown",
   "id": "885f6540",
   "metadata": {},
   "source": [
    "# This is my first Jupyter Notebook\n"
   ]
  },
  {
   "cell_type": "markdown",
   "id": "15d0ab28",
   "metadata": {},
   "source": [
    "**Natnael Alemayehu**\n"
   ]
  },
  {
   "cell_type": "markdown",
   "id": "6fe3a0db",
   "metadata": {},
   "source": [
    "Software Engineer "
   ]
  },
  {
   "cell_type": "markdown",
   "id": "feeae927",
   "metadata": {},
   "source": [
    "I am interested in Data science because I believe in the next few years data drivien decision making will be a big part of any organization "
   ]
  },
  {
   "cell_type": "markdown",
   "id": "82228870",
   "metadata": {},
   "source": [
    "### In this file i will print out numbers from 1-100 and tell if any of them are prime numbers or not\n"
   ]
  },
  {
   "cell_type": "code",
   "execution_count": 18,
   "id": "c4bbfa15",
   "metadata": {},
   "outputs": [],
   "source": [
    "def isPrime(n):\n",
    "  if(n==1 or n==0):\n",
    "    return False\n",
    "   \n",
    "  for i in range(2,n):\n",
    "    if(n%i==0):\n",
    "      return False\n",
    "  return True\n",
    " \n",
    " "
   ]
  },
  {
   "cell_type": "code",
   "execution_count": 26,
   "id": "a7a7818a",
   "metadata": {},
   "outputs": [
    {
     "name": "stdout",
     "output_type": "stream",
     "text": [
      "2, 3, 5, 7, 11, 13, 17, 19, 23, 29, 31, 37, 41, 43, 47, 53, 59, 61, 67, 71, 73, 79, 83, 89, 97, "
     ]
    }
   ],
   "source": [
    "N = 100;\n",
    "for i in range(1,N+1):\n",
    "  if(isPrime(i)):\n",
    "    print(i,end=\", \")"
   ]
  },
  {
   "cell_type": "code",
   "execution_count": null,
   "id": "718bc513",
   "metadata": {},
   "outputs": [],
   "source": []
  }
 ],
 "metadata": {
  "kernelspec": {
   "display_name": "Python 3 (ipykernel)",
   "language": "python",
   "name": "python3"
  },
  "language_info": {
   "codemirror_mode": {
    "name": "ipython",
    "version": 3
   },
   "file_extension": ".py",
   "mimetype": "text/x-python",
   "name": "python",
   "nbconvert_exporter": "python",
   "pygments_lexer": "ipython3",
   "version": "3.8.8"
  }
 },
 "nbformat": 4,
 "nbformat_minor": 5
}
