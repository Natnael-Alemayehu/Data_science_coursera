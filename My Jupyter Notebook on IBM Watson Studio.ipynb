{
 "cells": [
  {
   "cell_type": "markdown",
   "id": "a5482814",
   "metadata": {},
   "source": [
    "# This is my first Jupyter Notebook\n"
   ]
  },
  {
   "cell_type": "markdown",
   "id": "b6554cb9",
   "metadata": {},
   "source": [
    "**Natnael Alemayehu**\n"
   ]
  },
  {
   "cell_type": "markdown",
   "id": "0ee798d6",
   "metadata": {},
   "source": [
    "*I am interested in Data science because I believe in the next few years data drivien decision making will be a big part of any organization*"
   ]
  },
  {
   "cell_type": "markdown",
   "id": "00a590ee",
   "metadata": {},
   "source": [
    "### In this file i will print out numbers from 1-100 and tell if any of them are prime numbers or not\n"
   ]
  },
  {
   "cell_type": "code",
   "execution_count": 28,
   "id": "8b634ff6",
   "metadata": {},
   "outputs": [
    {
     "name": "stdout",
     "output_type": "stream",
     "text": [
      "2, 3, 5, 7, 11, 13, 17, 19, 23, 29, 31, 37, 41, 43, 47, 53, 59, 61, 67, 71, 73, 79, 83, 89, 97, "
     ]
    }
   ],
   "source": [
    "def isPrime(n):\n",
    "  if(n==1 or n==0):\n",
    "    return False\n",
    "   \n",
    "  for i in range(2,n):\n",
    "    if(n%i==0):\n",
    "      return False\n",
    "  return True\n",
    "\n",
    "N = 100;\n",
    "for i in range(1,N+1):\n",
    "  if(isPrime(i)):\n",
    "    print(i,end=\", \")"
   ]
  },
  {
   "cell_type": "markdown",
   "id": "cb42642a",
   "metadata": {},
   "source": [
    "We use 3 one line features in the example"
   ]
  },
  {
   "cell_type": "markdown",
   "id": "fe2f1934",
   "metadata": {},
   "source": [
    "1. <a id=\"heading_ID\">Functions</a>\n",
    "2. *for loops*\n",
    "3. `if statments`"
   ]
  },
  {
   "cell_type": "code",
   "execution_count": null,
   "id": "174e9209",
   "metadata": {},
   "outputs": [],
   "source": []
  }
 ],
 "metadata": {
  "kernelspec": {
   "display_name": "Python 3 (ipykernel)",
   "language": "python",
   "name": "python3"
  },
  "language_info": {
   "codemirror_mode": {
    "name": "ipython",
    "version": 3
   },
   "file_extension": ".py",
   "mimetype": "text/x-python",
   "name": "python",
   "nbconvert_exporter": "python",
   "pygments_lexer": "ipython3",
   "version": "3.8.8"
  }
 },
 "nbformat": 4,
 "nbformat_minor": 5
}
